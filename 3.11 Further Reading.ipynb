{
 "cells": [
  {
   "cell_type": "markdown",
   "metadata": {},
   "source": [
    "## 3.11 深入閱讀\n",
    "\n",
    "\n",
    "## http://www.nltk.org/  網頁上有免費的文本、語料庫可以參考"
   ]
  },
  {
   "cell_type": "markdown",
   "metadata": {},
   "source": [
    "\n",
    "## http://www.nltk.org/howto/  有NLTK更多處理words的範庫說明\n",
    "\n",
    "## 例: 斷詞  http://www.nltk.org/howto/tokenize.html\n",
    "\n"
   ]
  },
  {
   "cell_type": "markdown",
   "metadata": {},
   "source": [
    "##  https://docs.python.org/3.6/howto/regex.html  正規化說明網站"
   ]
  },
  {
   "cell_type": "markdown",
   "metadata": {},
   "source": [
    "\n",
    "## Unicode python 程式、文章相關網頁\n",
    "\n",
    "1. Ned Batchelder, Pragmatic Unicode, http://nedbatchelder.com/text/unipain.html\n",
    "2.Unicode HOWTO, Python Documentation, http://docs.python.org/3/howto/unicode.html\n",
    "David Beazley, Mastering Python 3 I/O, http://pyvideo.org/video/289/pycon-2010--mastering-python-3-i-o\n",
    "Joel Spolsky, The Absolute Minimum Every Software Developer Absolutely, Positively Must Know About Unicode and Character Sets (No Excuses!), http://www.joelonsoftware.com/articles/Unicode.html"
   ]
  },
  {
   "cell_type": "code",
   "execution_count": null,
   "metadata": {
    "collapsed": true
   },
   "outputs": [],
   "source": []
  }
 ],
 "metadata": {
  "kernelspec": {
   "display_name": "Python 3",
   "language": "python",
   "name": "python3"
  },
  "language_info": {
   "codemirror_mode": {
    "name": "ipython",
    "version": 3
   },
   "file_extension": ".py",
   "mimetype": "text/x-python",
   "name": "python",
   "nbconvert_exporter": "python",
   "pygments_lexer": "ipython3",
   "version": "3.6.3"
  }
 },
 "nbformat": 4,
 "nbformat_minor": 2
}
