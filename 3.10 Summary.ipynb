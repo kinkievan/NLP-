{
 "cells": [
  {
   "cell_type": "markdown",
   "metadata": {},
   "source": [
    "## 小結\n"
   ]
  },
  {
   "cell_type": "markdown",
   "metadata": {},
   "source": [
    "## 1) 在這本書我們將文本(text) 的單字用List 表示\n",
    "\n",
    "## 1.1)原始文本(raw text)指: 句子、段落、文章。通常我們會拿來分析、儲存。視覺化資料\n",
    "\n",
    "In this book we view a text as a list of words. A \"raw text\" is a potentially long string containing words and whitespace formatting, and is how we typically store and visualize a text."
   ]
  },
  {
   "cell_type": "markdown",
   "metadata": {},
   "source": [
    "## 2)Python 的串字表示方式 'Monty Python', \"Monty Python\" 單引號、雙引號都行\n",
    "\n",
    "A string is specified in Python using single or double quotes: 'Monty Python', \"Monty Python\"."
   ]
  },
  {
   "cell_type": "markdown",
   "metadata": {},
   "source": [
    "## 3、4) 字串的索引\n",
    "https://github.com/yenlung/Python-3-Data-Analysis-Basics/blob/master/%E6%8A%95%E5%BD%B1%E7%89%87/Python%E7%B0%A1%E4%BB%8B.pdf\n",
    "\n",
    "3)Substrings are accessed using slice notation: 'Monty Python'[1:5] gives the value onty. If the start index is omitted, the substring begins at the start of the string; if the end index is omitted, the slice continues to the end of the string.\n",
    "\n",
    "4)The characters of a string are accessed using indexes, counting from zero: 'Monty Python'[0] gives the value M. The length of a string is found using len().\n",
    "\n"
   ]
  },
  {
   "cell_type": "markdown",
   "metadata": {},
   "source": [
    "##  5)字串轉換成List 、List轉換成字串\n",
    " \n",
    "##  'Monty Python'.split() = ['Monty', 'Python']\n",
    "\n",
    "##  '/'.join(['Monty', 'Python'])= 'Monty/Python'\n",
    "\n",
    "Strings can be split into lists: 'Monty Python'.split() gives ['Monty', 'Python']. Lists can be joined into strings: '/'.join(['Monty', 'Python']) gives 'Monty/Python'."
   ]
  },
  {
   "cell_type": "markdown",
   "metadata": {},
   "source": [
    "## 6) 讀取檔案內容的方式:open('input.txt').read()\n",
    "\n",
    "## 6.1) 讀取網頁 text = request.urlopen(url).read().decode('utf8')\n",
    "\n",
    "## 6.2) open()這個function 開啟檔案\n",
    "We can read text from a file input.txt using text = open('input.txt').read(). We can read text from url using text = request.urlopen(url).read().decode('utf8'). We can iterate over the lines of a text file using for line in open(f)."
   ]
  },
  {
   "cell_type": "markdown",
   "metadata": {},
   "source": [
    "## 7)  寫入檔案模式 open('output.txt', 'w')\n",
    "\n",
    "We can write text to a file by opening the file for writing output_file = open('output.txt', 'w'), then adding content to the file print(\"Monty Python\", file=output_file)."
   ]
  },
  {
   "cell_type": "markdown",
   "metadata": {},
   "source": [
    "## 8)  網頁上找到的資料內容，可能包含一些我們不需要的內容，所以就需移除\n",
    "\n",
    "Texts found on the web may contain unwanted material (such as open('output.txt', 'w')), that need to be removed before we do any linguistic processing."
   ]
  },
  {
   "cell_type": "markdown",
   "metadata": {},
   "source": [
    "## 9)NLTK有提供word_tokenize()斷詞的function\n",
    "\n",
    "Tokenization is the segmentation of a text into basic units — or tokens — such as words and punctuation. Tokenization based on whitespace is inadequate for many applications because it bundles punctuation together with words. NLTK provides an off-the-shelf tokenizer nltk.word_tokenize()."
   ]
  },
  {
   "cell_type": "markdown",
   "metadata": {},
   "source": [
    "## 10) Lemmatization 單字的還原 例:appeared, appears 會還原 appear\n"
   ]
  },
  {
   "cell_type": "markdown",
   "metadata": {},
   "source": [
    "## 11) Regular expressions. 正規表達的方法是在re 模組內，所以使用 Regular expressions需要import re\n",
    "\n",
    "## 11.1) re.findall() 可以找到你要的規則的字\n",
    "\n",
    "\n",
    "Regular expressions are a powerful and flexible method of specifying patterns. Once we have imported the re module, we can use re.findall() to find all substrings in a string that match a pattern."
   ]
  },
  {
   "cell_type": "markdown",
   "metadata": {},
   "source": [
    "## 12: 不處理regular expression的字串，請在字串前面加 r'字串'\n",
    "\n",
    "If a regular expression string includes a backslash, you should tell Python not to preprocess the string, by using a raw string with an r prefix: r'regexp'.\n"
   ]
  },
  {
   "cell_type": "markdown",
   "metadata": {},
   "source": [
    "## 13: 在re 中 .  |   錢字號\n",
    "\n",
    "##  這些都是有意義的符號。 字串中有這些符號前面就要加上\\ \n",
    "\n",
    "When backslash is used before certain characters, e.g. \\n, this takes on a special meaning (newline character); however, when backslash is used before regular expression wildcards and operators, e.g. \\., \\|, \\$, these characters lose their special meaning and are matched literally.\n"
   ]
  },
  {
   "cell_type": "markdown",
   "metadata": {},
   "source": [
    "\n",
    "## %-6s 說明:\n",
    "\n",
    "## %0.2d說明:\n",
    "\n",
    "## 14) %s格式化字串 、 %d格式化整數、 %f格式化浮點數\n",
    "\n",
    "\n",
    "## 15)  - 靠左對齊  + 靠右對齊\n",
    "\n",
    "## 16)   %-6s   6代表保留6格空間數\n",
    "\n",
    "A string formatting expression template % arg_tuple consists of a format string template that contains conversion specifiers like %-6s and %0.2d."
   ]
  },
  {
   "cell_type": "markdown",
   "metadata": {},
   "source": []
  }
 ],
 "metadata": {
  "kernelspec": {
   "display_name": "Python 3",
   "language": "python",
   "name": "python3"
  },
  "language_info": {
   "codemirror_mode": {
    "name": "ipython",
    "version": 3
   },
   "file_extension": ".py",
   "mimetype": "text/x-python",
   "name": "python",
   "nbconvert_exporter": "python",
   "pygments_lexer": "ipython3",
   "version": "3.6.3"
  }
 },
 "nbformat": 4,
 "nbformat_minor": 2
}
